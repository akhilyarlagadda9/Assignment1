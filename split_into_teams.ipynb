{
 "cells": [
  {
   "cell_type": "code",
   "execution_count": 289,
   "id": "46d339b5",
   "metadata": {},
   "outputs": [],
   "source": [
    "import csv\n",
    "import math"
   ]
  },
  {
   "cell_type": "markdown",
   "id": "cb78ed05",
   "metadata": {},
   "source": [
    "        READING DATA FROM TSV FILE USING CSV MODULE"
   ]
  },
  {
   "cell_type": "code",
   "execution_count": 290,
   "id": "31d55596",
   "metadata": {},
   "outputs": [],
   "source": [
    "with open(\"Data/sp-22-students.tsv\") as file:\n",
    "    tsv_file = csv.reader(file, delimiter=\"\\t\")\n",
    "    students = [student[:2] for student in list(tsv_file)[1:]]\n"
   ]
  },
  {
   "cell_type": "code",
   "execution_count": 291,
   "id": "f58e4353",
   "metadata": {},
   "outputs": [
    {
     "name": "stdout",
     "output_type": "stream",
     "text": [
      "Enter total number of teams: 13\n"
     ]
    }
   ],
   "source": [
    "no_of_students = len(students)\n",
    "teams = {}\n",
    "no_of_teams = int(input(\"Enter total number of teams: \"))\n",
    "team_size = no_of_students/no_of_teams\n",
    "\n",
    "# below code in if block will handle the case when there are no equal no of students to divide among teams\n",
    "\n",
    "if team_size % 2 != 0:\n",
    "    min_team_size = round((no_of_students - 1) / no_of_teams)\n",
    "else:\n",
    "    min_team_size = team_size\n",
    "    \n",
    "# First division into teamss\n",
    "\n",
    "for team in range(1, no_of_teams + 1):\n",
    "    for member in range(0, min_team_size):\n",
    "        if len(students):\n",
    "            if teams.get(f\"team-{team}\"):\n",
    "                teams[f\"team-{team}\"].append(students.pop())\n",
    "            else:\n",
    "                teams[f\"team-{team}\"] = [students.pop()]\n",
    "\n",
    "\n",
    "# This code block below handles condition when equal no of students are not divided into the requested teams\n",
    "if len(students):\n",
    "    limit_member_for_team = no_of_teams//len(students)\n",
    "    for team in teams:\n",
    "            for limit in range(limit_member_for_team):\n",
    "                if len(students):\n",
    "                    teams[team].append(students.pop())\n",
    " "
   ]
  },
  {
   "cell_type": "markdown",
   "id": "b868e4f5",
   "metadata": {},
   "source": [
    "        DISPLAYING TEAMS"
   ]
  },
  {
   "cell_type": "code",
   "execution_count": 292,
   "id": "88080da5",
   "metadata": {},
   "outputs": [
    {
     "name": "stdout",
     "output_type": "stream",
     "text": [
      "Enter 'Y' to print teams else 'N':y\n"
     ]
    },
    {
     "data": {
      "text/plain": [
       "{'team-1': [['Vemireddy, Soujanya', 'Graduate'],\n",
       "  ['Vankayalapati, Vishnu Vardhan', 'Graduate'],\n",
       "  ['Vanga, Mahesh Krishna Reddy', 'Graduate']],\n",
       " 'team-2': [['Vadapally, Ramya Sree', 'Graduate'],\n",
       "  ['Tella, Sowmya', 'Graduate'],\n",
       "  ['Suresh, Akash', 'Graduate']],\n",
       " 'team-3': [['Sirigiri, Harinath', 'Graduate'],\n",
       "  ['Sardar, Karan Singh', 'Graduate'],\n",
       "  ['Pathi, Akhilesh', 'Graduate']],\n",
       " 'team-4': [['Parne, Chakradhar Reddy', 'Graduate'],\n",
       "  ['Panyala, Gunakar Reddy', 'Graduate'],\n",
       "  ['Panchumarthi, Ramya', 'Graduate']],\n",
       " 'team-5': [['Panchumarthi, Rajitha', 'Graduate'],\n",
       "  ['Mundru, Jaya Krishna', 'Graduate'],\n",
       "  ['Manne, Kavya', 'Graduate']],\n",
       " 'team-6': [['Mandalapu, Sri Lakshmi Jahnavi', 'Graduate'],\n",
       "  ['Kurri, Lakshmi Gayathri', 'Graduate'],\n",
       "  ['Kondapalli, Venkata Phani Raj S.', 'Graduate']],\n",
       " 'team-7': [['Kantipudi, Bala Rama Krishna', 'Graduate'],\n",
       "  ['Kanduri, Karthik Reddy', 'Graduate'],\n",
       "  ['Kakkireni, Sai Nikhil', 'Graduate']],\n",
       " 'team-8': [['Jagamoni, Sravya', 'Graduate'],\n",
       "  ['Gunti, Rahul Sathya', 'Graduate'],\n",
       "  ['Chundru, Tejasai', 'Graduate']],\n",
       " 'team-9': [['Chittiprolu, Sai Manideep', 'Graduate'],\n",
       "  ['Cheedu, Venkat Narayan Reddy', 'Graduate'],\n",
       "  ['Bolloju, Satya Sai Srimannarayana Sarma', 'Graduate']],\n",
       " 'team-10': [['Bolisetty, Nikhil', 'Graduate'],\n",
       "  ['Boga, Rahul', 'Graduate'],\n",
       "  ['Bandi, Sai Vineeth Reddy', 'Graduate']],\n",
       " 'team-11': [['Avirneni, Anvesh', 'Graduate'],\n",
       "  ['Atukuri, Sai Venkatesh', 'Graduate'],\n",
       "  ['Annavarapu, Aswini K.', 'Graduate']],\n",
       " 'team-12': [['Aluru, Praneeth', 'Graduate'],\n",
       "  ['Zhu, Pengxu', 'Undergraduate'],\n",
       "  ['Rhodes, Suqoya J.', 'Undergraduate']],\n",
       " 'team-13': [['Hayes, Priscilla M.', 'Undergraduate'],\n",
       "  ['Halbert, Dillon J.', 'Undergraduate'],\n",
       "  ['Galang, Japp Timothy G.', 'Undergraduate']]}"
      ]
     },
     "metadata": {},
     "output_type": "display_data"
    }
   ],
   "source": [
    "\n",
    "confirm = input(\"Enter 'Y' to print teams else 'N':\")\n",
    "if confirm.lower() == 'y':\n",
    "    display(teams)"
   ]
  },
  {
   "cell_type": "markdown",
   "id": "49f1ef4e",
   "metadata": {},
   "source": [
    "        Testing\n",
    "    \n",
    "        Scenario: Verify the sum of members in all teams are equal to total number of students"
   ]
  },
  {
   "cell_type": "code",
   "execution_count": 293,
   "id": "ea560de2",
   "metadata": {},
   "outputs": [
    {
     "name": "stdout",
     "output_type": "stream",
     "text": [
      "\n",
      "\n",
      "\n",
      "\n",
      "\n",
      "\n",
      "\n",
      "\n",
      "\n",
      "\n",
      "\n",
      "\n",
      "\n",
      "Number of students added to teams = 39\n"
     ]
    }
   ],
   "source": [
    "total_students_in_teams = 0\n",
    "for k,v in teams.items():\n",
    "    print()\n",
    "    total_students_in_teams+=len(v)\n",
    "print(\"Number of students added to teams =\", total_students_in_teams)\n",
    "\n",
    "assert total_students_in_teams == no_of_students\n"
   ]
  },
  {
   "cell_type": "code",
   "execution_count": null,
   "id": "e4d80e80",
   "metadata": {},
   "outputs": [],
   "source": []
  }
 ],
 "metadata": {
  "kernelspec": {
   "display_name": "Python 3 (ipykernel)",
   "language": "python",
   "name": "python3"
  },
  "language_info": {
   "codemirror_mode": {
    "name": "ipython",
    "version": 3
   },
   "file_extension": ".py",
   "mimetype": "text/x-python",
   "name": "python",
   "nbconvert_exporter": "python",
   "pygments_lexer": "ipython3",
   "version": "3.9.7"
  }
 },
 "nbformat": 4,
 "nbformat_minor": 5
}
